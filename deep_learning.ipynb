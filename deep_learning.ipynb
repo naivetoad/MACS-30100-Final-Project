{
 "cells": [
  {
   "cell_type": "code",
   "execution_count": 49,
   "metadata": {},
   "outputs": [],
   "source": [
    "import pandas as pd\n",
    "from tensorflow.keras.preprocessing.image import ImageDataGenerator\n",
    "from tensorflow.keras.layers import Conv2D, MaxPooling2D, Flatten, Dense, Dropout\n",
    "from tensorflow.keras.models import Sequential\n",
    "from tensorflow.keras.optimizers.legacy import Adam\n",
    "import matplotlib.pyplot as plt\n",
    "import numpy as np"
   ]
  },
  {
   "cell_type": "code",
   "execution_count": 18,
   "metadata": {},
   "outputs": [
    {
     "data": {
      "text/html": [
       "<div>\n",
       "<style scoped>\n",
       "    .dataframe tbody tr th:only-of-type {\n",
       "        vertical-align: middle;\n",
       "    }\n",
       "\n",
       "    .dataframe tbody tr th {\n",
       "        vertical-align: top;\n",
       "    }\n",
       "\n",
       "    .dataframe thead th {\n",
       "        text-align: right;\n",
       "    }\n",
       "</style>\n",
       "<table border=\"1\" class=\"dataframe\">\n",
       "  <thead>\n",
       "    <tr style=\"text-align: right;\">\n",
       "      <th></th>\n",
       "      <th>title</th>\n",
       "      <th>genre</th>\n",
       "      <th>normalized_description</th>\n",
       "    </tr>\n",
       "  </thead>\n",
       "  <tbody>\n",
       "    <tr>\n",
       "      <th>20200</th>\n",
       "      <td>Galactic Bowling</td>\n",
       "      <td>Sports</td>\n",
       "      <td>['galactic', 'bowling', 'exaggerated', 'styliz...</td>\n",
       "    </tr>\n",
       "    <tr>\n",
       "      <th>655370</th>\n",
       "      <td>Train Bandit</td>\n",
       "      <td>Action</td>\n",
       "      <td>['law', 'look', 'showdown', 'atop', 'train', '...</td>\n",
       "    </tr>\n",
       "    <tr>\n",
       "      <th>1732930</th>\n",
       "      <td>Jolt Project</td>\n",
       "      <td>Strategy</td>\n",
       "      <td>['jolt', 'project', 'army', 'new', 'robotic', ...</td>\n",
       "    </tr>\n",
       "    <tr>\n",
       "      <th>1355720</th>\n",
       "      <td>Henosis™</td>\n",
       "      <td>Adventure</td>\n",
       "      <td>['henosis', 'mysterious', '2d', 'platform', 'p...</td>\n",
       "    </tr>\n",
       "    <tr>\n",
       "      <th>1139950</th>\n",
       "      <td>Two Weeks in Painland</td>\n",
       "      <td>Adventure</td>\n",
       "      <td>['game', 'play', 'hacker', 'arrange', 'deal', ...</td>\n",
       "    </tr>\n",
       "    <tr>\n",
       "      <th>...</th>\n",
       "      <td>...</td>\n",
       "      <td>...</td>\n",
       "      <td>...</td>\n",
       "    </tr>\n",
       "    <tr>\n",
       "      <th>2669080</th>\n",
       "      <td>Mannerheim's Saloon Car</td>\n",
       "      <td>Simulation</td>\n",
       "      <td>['marshal', 'mannerheim', 'saloon', 'car', 'tr...</td>\n",
       "    </tr>\n",
       "    <tr>\n",
       "      <th>2736910</th>\n",
       "      <td>Beer Run</td>\n",
       "      <td>Casual</td>\n",
       "      <td>['beer', 'run', 'indie', 'game', 'create', 'st...</td>\n",
       "    </tr>\n",
       "    <tr>\n",
       "      <th>2743220</th>\n",
       "      <td>My Friend The Spider</td>\n",
       "      <td>Simulation</td>\n",
       "      <td>['small', 'horror', 'narrative', 'game', 'isol...</td>\n",
       "    </tr>\n",
       "    <tr>\n",
       "      <th>2293130</th>\n",
       "      <td>Path of Survivors</td>\n",
       "      <td>RPG</td>\n",
       "      <td>['path', 'survivor', 'multi', 'class', 'auto',...</td>\n",
       "    </tr>\n",
       "    <tr>\n",
       "      <th>2738840</th>\n",
       "      <td>The Night Heist</td>\n",
       "      <td>Casual</td>\n",
       "      <td>['meet', 'mariah', 'maria', 'missy', 'group', ...</td>\n",
       "    </tr>\n",
       "  </tbody>\n",
       "</table>\n",
       "<p>75776 rows × 3 columns</p>\n",
       "</div>"
      ],
      "text/plain": [
       "                           title       genre  \\\n",
       "20200           Galactic Bowling      Sports   \n",
       "655370              Train Bandit      Action   \n",
       "1732930             Jolt Project    Strategy   \n",
       "1355720                 Henosis™   Adventure   \n",
       "1139950    Two Weeks in Painland   Adventure   \n",
       "...                          ...         ...   \n",
       "2669080  Mannerheim's Saloon Car  Simulation   \n",
       "2736910                 Beer Run      Casual   \n",
       "2743220     My Friend The Spider  Simulation   \n",
       "2293130        Path of Survivors         RPG   \n",
       "2738840          The Night Heist      Casual   \n",
       "\n",
       "                                    normalized_description  \n",
       "20200    ['galactic', 'bowling', 'exaggerated', 'styliz...  \n",
       "655370   ['law', 'look', 'showdown', 'atop', 'train', '...  \n",
       "1732930  ['jolt', 'project', 'army', 'new', 'robotic', ...  \n",
       "1355720  ['henosis', 'mysterious', '2d', 'platform', 'p...  \n",
       "1139950  ['game', 'play', 'hacker', 'arrange', 'deal', ...  \n",
       "...                                                    ...  \n",
       "2669080  ['marshal', 'mannerheim', 'saloon', 'car', 'tr...  \n",
       "2736910  ['beer', 'run', 'indie', 'game', 'create', 'st...  \n",
       "2743220  ['small', 'horror', 'narrative', 'game', 'isol...  \n",
       "2293130  ['path', 'survivor', 'multi', 'class', 'auto',...  \n",
       "2738840  ['meet', 'mariah', 'maria', 'missy', 'group', ...  \n",
       "\n",
       "[75776 rows x 3 columns]"
      ]
     },
     "execution_count": 18,
     "metadata": {},
     "output_type": "execute_result"
    }
   ],
   "source": [
    "df = pd.read_csv('processed_steam_games.csv', index_col=0)\n",
    "df"
   ]
  },
  {
   "cell_type": "code",
   "execution_count": 19,
   "metadata": {},
   "outputs": [],
   "source": [
    "# define paths\n",
    "main_directory = 'images'\n",
    "train_directory = f'{main_directory}/train'\n",
    "validation_directory = f'{main_directory}/validation'\n",
    "\n",
    "# define image size\n",
    "image_size = (460, 215)\n",
    "\n",
    "# define batch size\n",
    "batch_size = 32"
   ]
  },
  {
   "cell_type": "code",
   "execution_count": 20,
   "metadata": {},
   "outputs": [
    {
     "name": "stdout",
     "output_type": "stream",
     "text": [
      "Found 60619 images belonging to 8 classes.\n"
     ]
    }
   ],
   "source": [
    "# setup training data\n",
    "train_datagen = ImageDataGenerator(\n",
    "    rescale=1./255,\n",
    "    rotation_range=20,\n",
    "    width_shift_range=0.2,\n",
    "    height_shift_range=0.2,\n",
    "    shear_range=0.2,\n",
    "    zoom_range=0.2,\n",
    "    horizontal_flip=True,\n",
    "    fill_mode='nearest'\n",
    ")\n",
    "\n",
    "train_generator = train_datagen.flow_from_directory(\n",
    "    train_directory,\n",
    "    target_size=image_size,\n",
    "    batch_size=batch_size,\n",
    "    class_mode='categorical'\n",
    ")"
   ]
  },
  {
   "cell_type": "code",
   "execution_count": 57,
   "metadata": {},
   "outputs": [
    {
     "name": "stdout",
     "output_type": "stream",
     "text": [
      "Found 15157 images belonging to 8 classes.\n"
     ]
    }
   ],
   "source": [
    "# set up validation data\n",
    "validation_datagen = ImageDataGenerator(rescale=1./255)\n",
    "\n",
    "validation_generator = validation_datagen.flow_from_directory(\n",
    "    validation_directory,\n",
    "    target_size=image_size,\n",
    "    batch_size=batch_size,\n",
    "    class_mode='categorical'\n",
    ")"
   ]
  },
  {
   "cell_type": "code",
   "execution_count": 32,
   "metadata": {},
   "outputs": [],
   "source": [
    "# define a CNN model\n",
    "model = Sequential([\n",
    "    Conv2D(32, (3,3), activation='relu', input_shape=(image_size[0], image_size[1], 3)),\n",
    "    MaxPooling2D(2, 2),\n",
    "    Conv2D(64, (3,3), activation='relu'),\n",
    "    MaxPooling2D(2,2),\n",
    "    Conv2D(128, (3,3), activation='relu'),\n",
    "    MaxPooling2D(2,2),\n",
    "    Flatten(),\n",
    "    Dense(512, activation='relu'),\n",
    "    Dropout(0.5),\n",
    "    Dense(train_generator.num_classes, activation='softmax')\n",
    "])"
   ]
  },
  {
   "cell_type": "code",
   "execution_count": 33,
   "metadata": {},
   "outputs": [],
   "source": [
    "# compile the model\n",
    "model.compile(loss='categorical_crossentropy',\n",
    "              optimizer=Adam(),\n",
    "              metrics=['accuracy'])"
   ]
  },
  {
   "cell_type": "code",
   "execution_count": 34,
   "metadata": {},
   "outputs": [
    {
     "name": "stdout",
     "output_type": "stream",
     "text": [
      "Epoch 1/25\n",
      "1894/1894 [==============================] - 1337s 706ms/step - loss: 1.9631 - accuracy: 0.2263 - val_loss: 1.9331 - val_accuracy: 0.2313\n",
      "Epoch 2/25\n",
      "1894/1894 [==============================] - 1334s 704ms/step - loss: 1.9315 - accuracy: 0.2297 - val_loss: 1.9228 - val_accuracy: 0.2361\n",
      "Epoch 3/25\n",
      "1894/1894 [==============================] - 1333s 704ms/step - loss: 1.9256 - accuracy: 0.2317 - val_loss: 1.9165 - val_accuracy: 0.2346\n",
      "Epoch 4/25\n",
      "1894/1894 [==============================] - 1330s 702ms/step - loss: 1.9224 - accuracy: 0.2323 - val_loss: 1.9136 - val_accuracy: 0.2347\n",
      "Epoch 5/25\n",
      "1894/1894 [==============================] - 1331s 703ms/step - loss: 1.9209 - accuracy: 0.2334 - val_loss: 1.9161 - val_accuracy: 0.2398\n",
      "Epoch 6/25\n",
      "1894/1894 [==============================] - 1330s 702ms/step - loss: 1.9187 - accuracy: 0.2349 - val_loss: 1.9136 - val_accuracy: 0.2358\n",
      "Epoch 7/25\n",
      "1894/1894 [==============================] - 1329s 701ms/step - loss: 1.9167 - accuracy: 0.2349 - val_loss: 1.9087 - val_accuracy: 0.2398\n",
      "Epoch 8/25\n",
      "1894/1894 [==============================] - 1330s 702ms/step - loss: 1.9160 - accuracy: 0.2357 - val_loss: 1.9064 - val_accuracy: 0.2409\n",
      "Epoch 9/25\n",
      "1894/1894 [==============================] - 1329s 702ms/step - loss: 1.9148 - accuracy: 0.2352 - val_loss: 1.9049 - val_accuracy: 0.2449\n",
      "Epoch 10/25\n",
      "1894/1894 [==============================] - 1330s 702ms/step - loss: 1.9142 - accuracy: 0.2382 - val_loss: 1.9033 - val_accuracy: 0.2422\n",
      "Epoch 11/25\n",
      "1894/1894 [==============================] - 1331s 703ms/step - loss: 1.9135 - accuracy: 0.2368 - val_loss: 1.9095 - val_accuracy: 0.2400\n",
      "Epoch 12/25\n",
      "1894/1894 [==============================] - 1328s 701ms/step - loss: 1.9132 - accuracy: 0.2374 - val_loss: 1.9122 - val_accuracy: 0.2457\n",
      "Epoch 13/25\n",
      "1894/1894 [==============================] - 1330s 702ms/step - loss: 1.9124 - accuracy: 0.2371 - val_loss: 1.9012 - val_accuracy: 0.2413\n",
      "Epoch 14/25\n",
      "1894/1894 [==============================] - 1331s 702ms/step - loss: 1.9131 - accuracy: 0.2380 - val_loss: 1.9029 - val_accuracy: 0.2433\n",
      "Epoch 15/25\n",
      "1894/1894 [==============================] - 1333s 704ms/step - loss: 1.9118 - accuracy: 0.2387 - val_loss: 1.9088 - val_accuracy: 0.2422\n",
      "Epoch 16/25\n",
      "1894/1894 [==============================] - 1333s 704ms/step - loss: 1.9136 - accuracy: 0.2386 - val_loss: 1.9017 - val_accuracy: 0.2454\n",
      "Epoch 17/25\n",
      "1894/1894 [==============================] - 1328s 701ms/step - loss: 1.9125 - accuracy: 0.2384 - val_loss: 1.9165 - val_accuracy: 0.2365\n",
      "Epoch 18/25\n",
      "1894/1894 [==============================] - 1329s 701ms/step - loss: 1.9108 - accuracy: 0.2375 - val_loss: 1.9066 - val_accuracy: 0.2470\n",
      "Epoch 19/25\n",
      "1894/1894 [==============================] - 1331s 703ms/step - loss: 1.9106 - accuracy: 0.2390 - val_loss: 1.9055 - val_accuracy: 0.2425\n",
      "Epoch 20/25\n",
      "1894/1894 [==============================] - 1327s 701ms/step - loss: 1.9109 - accuracy: 0.2377 - val_loss: 1.9036 - val_accuracy: 0.2507\n",
      "Epoch 21/25\n",
      "1894/1894 [==============================] - 1329s 701ms/step - loss: 1.9114 - accuracy: 0.2390 - val_loss: 1.9080 - val_accuracy: 0.2421\n",
      "Epoch 22/25\n",
      "1894/1894 [==============================] - 1331s 703ms/step - loss: 1.9102 - accuracy: 0.2379 - val_loss: 1.9127 - val_accuracy: 0.2446\n",
      "Epoch 23/25\n",
      "1894/1894 [==============================] - 1333s 703ms/step - loss: 1.9094 - accuracy: 0.2417 - val_loss: 1.8987 - val_accuracy: 0.2465\n",
      "Epoch 24/25\n",
      "1894/1894 [==============================] - 1334s 704ms/step - loss: 1.9087 - accuracy: 0.2402 - val_loss: 1.9204 - val_accuracy: 0.2451\n",
      "Epoch 25/25\n",
      "1894/1894 [==============================] - 1334s 704ms/step - loss: 1.9090 - accuracy: 0.2399 - val_loss: 1.9005 - val_accuracy: 0.2448\n"
     ]
    }
   ],
   "source": [
    "# train the model\n",
    "history = model.fit(\n",
    "    train_generator,\n",
    "    steps_per_epoch=train_generator.samples // batch_size,\n",
    "    epochs=20,\n",
    "    validation_data=validation_generator,\n",
    "    validation_steps=validation_generator.samples // batch_size,\n",
    "    verbose=1,\n",
    ")"
   ]
  },
  {
   "cell_type": "code",
   "execution_count": 42,
   "metadata": {},
   "outputs": [
    {
     "data": {
      "image/png": "[encoded data removed]",
      "text/plain": [
       "<Figure size 640x480 with 1 Axes>"
      ]
     },
     "metadata": {},
     "output_type": "display_data"
    }
   ],
   "source": [
    "# plot training and validation accuracy\n",
    "plt.plot(history.history['accuracy'], label='Training Accuracy')\n",
    "plt.plot(history.history['val_accuracy'], label='Validation Accuracy')\n",
    "plt.xlabel('Epochs')\n",
    "plt.ylabel('Accuracy')\n",
    "plt.legend()\n",
    "plt.show()"
   ]
  },
  {
   "cell_type": "code",
   "execution_count": 37,
   "metadata": {},
   "outputs": [],
   "source": [
    "# save the model\n",
    "model.save('CNN_model.keras')"
   ]
  }
 ],
 "metadata": {
  "kernelspec": {
   "display_name": "base",
   "language": "python",
   "name": "python3"
  },
  "language_info": {
   "codemirror_mode": {
    "name": "ipython",
    "version": 3
   },
   "file_extension": ".py",
   "mimetype": "text/x-python",
   "name": "python",
   "nbconvert_exporter": "python",
   "pygments_lexer": "ipython3",
   "version": "3.11.5"
  }
 },
 "nbformat": 4,
 "nbformat_minor": 2
}
